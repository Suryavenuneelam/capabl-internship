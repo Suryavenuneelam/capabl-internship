{
 "cells": [
  {
   "cell_type": "code",
   "execution_count": 1,
   "id": "1318cc44",
   "metadata": {},
   "outputs": [
    {
     "name": "stdout",
     "output_type": "stream",
     "text": [
      "Welcome to Hangman!\n",
      "\n",
      " _  _  _  _ \n",
      "Guess a letter: l\n",
      "Incorrect guess!\n",
      "Attempts remaining: 6\n",
      "\n",
      " _  _  _  _ \n",
      "Guess a letter: o\n",
      "Incorrect guess!\n",
      "Attempts remaining: 5\n",
      "\n",
      " _  _  _  _ \n",
      "Guess a letter: v\n",
      "Incorrect guess!\n",
      "Attempts remaining: 4\n",
      "\n",
      " _  _  _  _ \n",
      "Guess a letter: e\n",
      "Incorrect guess!\n",
      "Attempts remaining: 3\n",
      "\n",
      " _  _  _  _ \n",
      "Guess a letter: n\n",
      "Correct guess!\n",
      "\n",
      "n _  _  _ \n",
      "Guess a letter: a\n",
      "Correct guess!\n",
      "\n",
      "na _ a\n",
      "Guess a letter: r\n",
      "Incorrect guess!\n",
      "Attempts remaining: 2\n",
      "\n",
      "na _ a\n",
      "Guess a letter: g\n",
      "Correct guess!\n",
      "Congratulations! You guessed the word correctly: naga\n"
     ]
    }
   ],
   "source": [
    "import random\n",
    "\n",
    "def hangman():\n",
    "    word_list = ['neelam', 'naga', 'sai', 'venkata', 'surya','venu']\n",
    "    selected_word = random.choice(word_list)\n",
    "    guessed_letters = []\n",
    "    max_attempts = 7 \n",
    "    \n",
    "    print(\"Welcome to Hangman!\")\n",
    "    \n",
    "    while max_attempts > 0:\n",
    "        display_word = ''.join([letter if letter in guessed_letters else ' _ ' for letter in selected_word])\n",
    "        \n",
    "        if display_word == selected_word:\n",
    "            print(\"Congratulations! You guessed the word correctly:\", selected_word)\n",
    "            break\n",
    "\n",
    "        print(\"\\n\" + display_word)\n",
    "        guess = input(\"Guess a letter: \").lower()\n",
    "\n",
    "        if len(guess) != 1 or not guess.isalpha():\n",
    "            print(\"Please enter a single letter.\")\n",
    "            continue\n",
    "\n",
    "        if guess in guessed_letters:\n",
    "            print(\"You already guessed that letter. Try again.\")\n",
    "        else:\n",
    "            guessed_letters.append(guess)\n",
    "            if guess in selected_word:\n",
    "                print(\"Correct guess!\")\n",
    "            else:\n",
    "                max_attempts -= 1\n",
    "                print(\"Incorrect guess!\")\n",
    "                print(\"Attempts remaining:\", max_attempts)\n",
    "        \n",
    "    if max_attempts == 0:\n",
    "        print(\"Game over. You ran out of attempts.\")\n",
    "        print(\"The word was:\", selected_word)\n",
    "\n",
    "hangman()\n"
   ]
  },
  {
   "cell_type": "code",
   "execution_count": null,
   "id": "a4448dee",
   "metadata": {},
   "outputs": [],
   "source": []
  }
 ],
 "metadata": {
  "kernelspec": {
   "display_name": "Python 3 (ipykernel)",
   "language": "python",
   "name": "python3"
  },
  "language_info": {
   "codemirror_mode": {
    "name": "ipython",
    "version": 3
   },
   "file_extension": ".py",
   "mimetype": "text/x-python",
   "name": "python",
   "nbconvert_exporter": "python",
   "pygments_lexer": "ipython3",
   "version": "3.11.4"
  }
 },
 "nbformat": 4,
 "nbformat_minor": 5
}
